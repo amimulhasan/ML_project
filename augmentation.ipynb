{
  "nbformat": 4,
  "nbformat_minor": 0,
  "metadata": {
    "colab": {
      "provenance": [],
      "authorship_tag": "ABX9TyNOaCbsTelFcOFVOhWJPSeW",
      "include_colab_link": true
    },
    "kernelspec": {
      "name": "python3",
      "display_name": "Python 3"
    },
    "language_info": {
      "name": "python"
    }
  },
  "cells": [
    {
      "cell_type": "markdown",
      "metadata": {
        "id": "view-in-github",
        "colab_type": "text"
      },
      "source": [
        "<a href=\"https://colab.research.google.com/github/amimulhasan/ML_project/blob/main/augmentation.ipynb\" target=\"_parent\"><img src=\"https://colab.research.google.com/assets/colab-badge.svg\" alt=\"Open In Colab\"/></a>"
      ]
    },
    {
      "cell_type": "code",
      "execution_count": null,
      "metadata": {
        "id": "pvbujB4N7i9m"
      },
      "outputs": [],
      "source": [
        "import os\n",
        "from tensorflow.keras.preprocessing.image import ImageDataGenerator, img_to_array, load_img\n",
        "\n",
        "# Path to your original dataset\n",
        "dataset_path = \"path_to_your_dataset\"  # Example: \"dataset/\"\n",
        "# Each class should have its own folder, e.g., \"dataset/glioma\" and \"dataset/meningioma\"\n",
        "\n",
        "# Path to save augmented images\n",
        "augmented_path = \"augmented_dataset\"\n",
        "os.makedirs(augmented_path, exist_ok=True)\n",
        "\n",
        "# Define augmentation parameters\n",
        "datagen = ImageDataGenerator(\n",
        "    rotation_range=20,       # rotate images randomly\n",
        "    width_shift_range=0.1,   # shift width\n",
        "    height_shift_range=0.1,  # shift height\n",
        "    shear_range=0.1,         # shear transformation\n",
        "    zoom_range=0.1,          # zoom in/out\n",
        "    horizontal_flip=True,    # flip horizontally\n",
        "    fill_mode='nearest'      # fill pixels\n",
        ")\n",
        "\n",
        "# Number of augmented images per original image\n",
        "num_augmented_images = 5\n",
        "\n",
        "# Loop through each class folder\n",
        "for class_name in os.listdir(dataset_path):\n",
        "    class_folder = os.path.join(dataset_path, class_name)\n",
        "    save_folder = os.path.join(augmented_path, class_name)\n",
        "    os.makedirs(save_folder, exist_ok=True)\n",
        "\n",
        "    for img_name in os.listdir(class_folder):\n",
        "        img_path = os.path.join(class_folder, img_name)\n",
        "        img = load_img(img_path)           # Load image\n",
        "        x = img_to_array(img)              # Convert to array\n",
        "        x = x.reshape((1,) + x.shape)     # Reshape for datagen\n",
        "\n",
        "        # Generate augmented images\n",
        "        i = 0\n",
        "        for batch in datagen.flow(x, batch_size=1,\n",
        "                                  save_to_dir=save_folder,\n",
        "                                  save_prefix='aug',\n",
        "                                  save_format='jpg'):\n",
        "            i += 1\n",
        "            if i >= num_augmented_images:\n",
        "                break\n",
        "\n",
        "print(\"Augmentation completed! Augmented images are saved in:\", augmented_path)"
      ]
    }
  ]
}